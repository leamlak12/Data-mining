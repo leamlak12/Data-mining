{
  "nbformat": 4,
  "nbformat_minor": 0,
  "metadata": {
    "colab": {
      "provenance": [],
      "authorship_tag": "ABX9TyNtNLrCcCu6haSJxWGZcEgf",
      "include_colab_link": true
    },
    "kernelspec": {
      "name": "python3",
      "display_name": "Python 3"
    },
    "language_info": {
      "name": "python"
    }
  },
  "cells": [
    {
      "cell_type": "markdown",
      "metadata": {
        "id": "view-in-github",
        "colab_type": "text"
      },
      "source": [
        "<a href=\"https://colab.research.google.com/github/nathalylorena/Data-mining/blob/main/DATA_MINING_9.ipynb\" target=\"_parent\"><img src=\"https://colab.research.google.com/assets/colab-badge.svg\" alt=\"Open In Colab\"/></a>"
      ]
    },
    {
      "cell_type": "code",
      "execution_count": null,
      "metadata": {
        "id": "HNBS2xnbllLs"
      },
      "outputs": [],
      "source": [
        "import pandas as pd\n",
        "import matplotlib.pyplot as plt\n",
        "import seaborn as sns\n",
        "from sklearn.model_selection import train_test_split\n",
        "from sklearn.linear_model import LinearRegression\n",
        "from sklearn.metrics import mean_squared_error, r2_score\n",
        "\n",
        "# Importando o conjunto de dados Diabetes\n",
        "url_diabetes = 'https://raw.githubusercontent.com/plotly/datasets/master/diabetes.csv'\n",
        "df_diabetes = pd.read_csv(url_diabetes)\n",
        "\n",
        "# Exibindo as primeiras linhas do conjunto de dados\n",
        "print(df_diabetes.head())\n",
        "\n",
        "# Informações básicas sobre o conjunto de dados\n",
        "print(df_diabetes.info())\n",
        "\n",
        "# Estatísticas descritivas\n",
        "print(df_diabetes.describe())\n",
        "\n",
        "# Distribuição dos valores de Outcome (0 = Não-Diabetes, 1 = Diabetes)\n",
        "sns.countplot(x='Outcome', data=df_diabetes)\n",
        "plt.title('Distribuição de Diabetes')\n",
        "plt.xlabel('Diabetes (0 = Não, 1 = Sim)')\n",
        "plt.ylabel('Contagem')\n",
        "plt.show()\n",
        "\n",
        "# Pairplot para visualizar relações entre algumas características\n",
        "sns.pairplot(df_diabetes, hue='Outcome', vars=['Glucose', 'BloodPressure', 'SkinThickness', 'BMI'])\n",
        "plt.show()\n",
        "\n",
        "# Heatmap da matriz de correlação\n",
        "corr_matrix = df_diabetes.corr()\n",
        "plt.figure(figsize=(12, 10))\n",
        "sns.heatmap(corr_matrix, annot=True, cmap='coolwarm')\n",
        "plt.title('Matriz de Correlação')\n",
        "plt.show()\n",
        "\n",
        "# Boxplot para visualizar a distribuição de Glucose por Outcome\n",
        "plt.figure(figsize=(12, 8))\n",
        "sns.boxplot(x='Outcome', y='Glucose', data=df_diabetes)\n",
        "plt.title('Glicose por Presença de Diabetes')\n",
        "plt.xlabel('Diabetes (0 = Não, 1 = Sim)')\n",
        "plt.ylabel('Glicose')\n",
        "plt.show()\n",
        "\n",
        "# Seleção de variáveis independentes (X) e dependente (y)\n",
        "X = df_diabetes.drop('Outcome', axis=1)\n",
        "y = df_diabetes['Outcome']\n",
        "\n",
        "# Divisão dos dados em conjuntos de treino e teste\n",
        "X_treino, X_teste, y_treino, y_teste = train_test_split(X, y, test_size=0.2, random_state=42)\n",
        "\n",
        "# Treinamento do modelo de regressão logística\n",
        "modelo = LogisticRegression(max_iter=200)\n",
        "modelo.fit(X_treino, y_treino)\n",
        "\n",
        "# Previsões no conjunto de teste\n",
        "y_pred = modelo.predict(X_teste)\n",
        "\n",
        "# Avaliação do modelo\n",
        "acuracia = accuracy_score(y_teste, y_pred)\n",
        "print(f'Acurácia: {acuracia}')\n",
        "\n",
        "# Matriz de confusão\n",
        "matriz_confusao = confusion_matrix(y_teste, y_pred)\n",
        "print('Matriz de Confusão:')\n",
        "print(matriz_confusao)\n",
        "\n",
        "# Relatório de classificação\n",
        "relatorio_classificacao = classification_report(y_teste, y_pred)\n",
        "print('Relatório de Classificação:')\n",
        "print(relatorio_classificacao)"
      ]
    }
  ]
}