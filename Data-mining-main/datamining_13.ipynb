{
  "nbformat": 4,
  "nbformat_minor": 0,
  "metadata": {
    "colab": {
      "provenance": [],
      "authorship_tag": "ABX9TyPNXZoNcklX8aqrc+ERm3GJ",
      "include_colab_link": true
    },
    "kernelspec": {
      "name": "python3",
      "display_name": "Python 3"
    },
    "language_info": {
      "name": "python"
    }
  },
  "cells": [
    {
      "cell_type": "markdown",
      "metadata": {
        "id": "view-in-github",
        "colab_type": "text"
      },
      "source": [
        "<a href=\"https://colab.research.google.com/github/nathalylorena/Data-mining/blob/main/datamining_13.ipynb\" target=\"_parent\"><img src=\"https://colab.research.google.com/assets/colab-badge.svg\" alt=\"Open In Colab\"/></a>"
      ]
    },
    {
      "cell_type": "code",
      "execution_count": null,
      "metadata": {
        "id": "kLZrsq5mvW13",
        "outputId": "427c023e-407c-47fd-cc94-77e0b93ce842",
        "colab": {
          "base_uri": "https://localhost:8080/",
          "height": 1000
        }
      },
      "outputs": [
        {
          "output_type": "stream",
          "name": "stdout",
          "text": [
            "   sepal length (cm)  sepal width (cm)  petal length (cm)  petal width (cm)  \\\n",
            "0                5.1               3.5                1.4               0.2   \n",
            "1                4.9               3.0                1.4               0.2   \n",
            "2                4.7               3.2                1.3               0.2   \n",
            "3                4.6               3.1                1.5               0.2   \n",
            "4                5.0               3.6                1.4               0.2   \n",
            "\n",
            "   species  \n",
            "0        0  \n",
            "1        0  \n",
            "2        0  \n",
            "3        0  \n",
            "4        0  \n",
            "<class 'pandas.core.frame.DataFrame'>\n",
            "RangeIndex: 150 entries, 0 to 149\n",
            "Data columns (total 5 columns):\n",
            " #   Column             Non-Null Count  Dtype  \n",
            "---  ------             --------------  -----  \n",
            " 0   sepal length (cm)  150 non-null    float64\n",
            " 1   sepal width (cm)   150 non-null    float64\n",
            " 2   petal length (cm)  150 non-null    float64\n",
            " 3   petal width (cm)   150 non-null    float64\n",
            " 4   species            150 non-null    int64  \n",
            "dtypes: float64(4), int64(1)\n",
            "memory usage: 6.0 KB\n",
            "None\n",
            "       sepal length (cm)  sepal width (cm)  petal length (cm)  \\\n",
            "count         150.000000        150.000000         150.000000   \n",
            "mean            5.843333          3.057333           3.758000   \n",
            "std             0.828066          0.435866           1.765298   \n",
            "min             4.300000          2.000000           1.000000   \n",
            "25%             5.100000          2.800000           1.600000   \n",
            "50%             5.800000          3.000000           4.350000   \n",
            "75%             6.400000          3.300000           5.100000   \n",
            "max             7.900000          4.400000           6.900000   \n",
            "\n",
            "       petal width (cm)     species  \n",
            "count        150.000000  150.000000  \n",
            "mean           1.199333    1.000000  \n",
            "std            0.762238    0.819232  \n",
            "min            0.100000    0.000000  \n",
            "25%            0.300000    0.000000  \n",
            "50%            1.300000    1.000000  \n",
            "75%            1.800000    2.000000  \n",
            "max            2.500000    2.000000  \n"
          ]
        },
        {
          "output_type": "display_data",
          "data": {
            "text/plain": [
              "<Figure size 640x480 with 1 Axes>"
            ],
            "image/png": "[encoded data removed]"
          },
          "metadata": {}
        }
      ],
      "source": [
        "import pandas as pd\n",
        "import matplotlib.pyplot as plt\n",
        "import seaborn as sns\n",
        "from sklearn.model_selection import train_test_split\n",
        "from sklearn.linear_model import LogisticRegression\n",
        "from sklearn.metrics import accuracy_score, confusion_matrix, classification_report\n",
        "from sklearn.datasets import load_iris\n",
        "\n",
        "# Importando o conjunto de dados Iris\n",
        "iris = load_iris()\n",
        "df_iris = pd.DataFrame(iris.data, columns=iris.feature_names)\n",
        "df_iris['species'] = iris.target\n",
        "\n",
        "# Exibindo as primeiras linhas do conjunto de dados\n",
        "print(df_iris.head())\n",
        "\n",
        "# Informações básicas sobre o conjunto de dados\n",
        "print(df_iris.info())\n",
        "\n",
        "# Estatísticas descritivas\n",
        "print(df_iris.describe())\n",
        "\n",
        "# Distribuição das espécies\n",
        "sns.countplot(x='species', data=df_iris)\n",
        "plt.title('Distribuição das Espécies')\n",
        "plt.xlabel('Espécies')\n",
        "plt.ylabel('Contagem')\n",
        "plt.show()\n",
        "\n",
        "# Pairplot para visualizar relações entre algumas características\n",
        "sns.pairplot(df_iris, hue='species')\n",
        "plt.show()\n",
        "\n",
        "# Heatmap da matriz de correlação\n",
        "corr_matrix = df_iris.corr()\n",
        "plt.figure(figsize=(12, 10))\n",
        "sns.heatmap(corr_matrix, annot=True, cmap='coolwarm')\n",
        "plt.title('Matriz de Correlação')\n",
        "plt.show()\n",
        "\n",
        "# Boxplot para visualizar a distribuição de características por espécies\n",
        "plt.figure(figsize=(12, 8))\n",
        "sns.boxplot(x='species', y='sepal length (cm)', data=df_iris)\n",
        "plt.title('Comprimento da Sépala por Espécie')\n",
        "plt.xlabel('Espécies')\n",
        "plt.ylabel('Comprimento da Sépala (cm)')\n",
        "plt.show()\n",
        "\n",
        "# Seleção de variáveis independentes (X) e dependente (y)\n",
        "X = df_iris.drop('species', axis=1)\n",
        "y = df_iris['species']\n",
        "\n",
        "# Divisão dos dados em conjuntos de treino e teste\n",
        "X_treino, X_teste, y_treino, y_teste = train_test_split(X, y, test_size=0.2, random_state=42)\n",
        "\n",
        "# Treinamento do modelo de regressão logística\n",
        "modelo = LogisticRegression(max_iter=200)\n",
        "modelo.fit(X_treino, y_treino)\n",
        "\n",
        "# Previsões no conjunto de teste\n",
        "y_pred = modelo.predict(X_teste)\n",
        "\n",
        "# Avaliação do modelo\n",
        "acuracia = accuracy_score(y_teste, y_pred)\n",
        "print(f'Acurácia: {acuracia}')\n",
        "\n",
        "# Matriz de confusão\n",
        "matriz_confusao = confusion_matrix(y_teste, y_pred)\n",
        "print('Matriz de Confusão:')\n",
        "print(matriz_confusao)\n",
        "\n",
        "# Relatório de classificação\n",
        "relatorio_classificacao = classification_report(y_teste, y_pred)\n",
        "print('Relatório de Classificação:')\n",
        "print(relatorio_classificacao)\n"
      ]
    }
  ]
}